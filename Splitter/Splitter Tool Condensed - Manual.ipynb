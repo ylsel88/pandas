{
 "cells": [
  {
   "cell_type": "code",
   "execution_count": 1,
   "metadata": {
    "scrolled": true
   },
   "outputs": [
    {
     "data": {
      "text/html": [
       "<div>\n",
       "<style scoped>\n",
       "    .dataframe tbody tr th:only-of-type {\n",
       "        vertical-align: middle;\n",
       "    }\n",
       "\n",
       "    .dataframe tbody tr th {\n",
       "        vertical-align: top;\n",
       "    }\n",
       "\n",
       "    .dataframe thead th {\n",
       "        text-align: right;\n",
       "    }\n",
       "</style>\n",
       "<table border=\"1\" class=\"dataframe\">\n",
       "  <thead>\n",
       "    <tr style=\"text-align: right;\">\n",
       "      <th></th>\n",
       "      <th>Column 1</th>\n",
       "      <th>Column 2</th>\n",
       "    </tr>\n",
       "  </thead>\n",
       "  <tbody>\n",
       "    <tr>\n",
       "      <td>0</td>\n",
       "      <td>A</td>\n",
       "      <td>B</td>\n",
       "    </tr>\n",
       "    <tr>\n",
       "      <td>1</td>\n",
       "      <td>G</td>\n",
       "      <td>H</td>\n",
       "    </tr>\n",
       "  </tbody>\n",
       "</table>\n",
       "</div>"
      ],
      "text/plain": [
       "  Column 1 Column 2\n",
       "0        A        B\n",
       "1        G        H"
      ]
     },
     "execution_count": 1,
     "metadata": {},
     "output_type": "execute_result"
    }
   ],
   "source": [
    "import pandas as pd\n",
    "import os\n",
    "\n",
    "#Import excel mapping file\n",
    "mappingfile = r\"C:\\Users\\User\\Documents\\Work\\Splitter\\Splitter Mapping.xlsx\"\n",
    "#Read Excel file in pandas\n",
    "xls = pd.ExcelFile(mappingfile)\n",
    "#Create dataframes from sheet tabs\n",
    "df_header = pd.read_excel(xls, 'Headers')\n",
    "df_headero = pd.read_excel(xls, 'Headers 2')\n",
    "df_criteria = pd.read_excel(xls, 'Criteria')\n",
    "df_des = pd.read_excel(xls, 'Destination')\n",
    "#Convert column headers in Headers tab to a list\n",
    "df_header2 = df_header.values.tolist()\n",
    "#Remove brackets from the column headers list\n",
    "df_header3 = []\n",
    "for sublist in df_header2:\n",
    "    for val in sublist:\n",
    "        df_header3.append(val)\n",
    "#Import csv\n",
    "inputfile = df_des.values[0,1]\n",
    "csv_file = inputfile\n",
    "#Read csv + select columns\n",
    "df_csv = pd.read_csv(csv_file, usecols = df_header3)\n",
    "#Remove 2nd row aka index 0\n",
    "#df_csv2 = df_csv.drop([0])\n",
    "#Get column headers for criteria filtering purposes if they are not blank in the Criteria tab\n",
    "df_notnull = df_criteria[pd.notnull(df_criteria[0:4])]\n",
    "#Convert criteria filtering column headers to a list\n",
    "df_notnull2 = df_notnull.columns.tolist()\n",
    "#Apply the filtering criteria on the TLE via merge syntax\n",
    "df_merge = pd.merge(df_criteria, df_csv, left_on = df_notnull2, right_on = df_notnull2, how = 'left')\n",
    "#Convert column headers in Headers 2 tab to a list + remove brackets from the column headers list\n",
    "df_headero2 = df_headero.values.tolist()\n",
    "df_headero3 = []\n",
    "for sublist in df_headero2:\n",
    "    for val in sublist:\n",
    "        df_headero3.append(val)\n",
    "#Select df_merge columns by list\n",
    "df_output = df_merge[df_merge.columns.intersection(df_headero3)]\n",
    "#Export filtered TLE to csv\n",
    "outputfile = df_des.values[1,1]\n",
    "df_output"
   ]
  },
  {
   "cell_type": "code",
   "execution_count": 2,
   "metadata": {},
   "outputs": [],
   "source": [
    "df_output.to_csv(outputfile, index = False)"
   ]
  }
 ],
 "metadata": {
  "kernelspec": {
   "display_name": "Python 3",
   "language": "python",
   "name": "python3"
  },
  "language_info": {
   "codemirror_mode": {
    "name": "ipython",
    "version": 3
   },
   "file_extension": ".py",
   "mimetype": "text/x-python",
   "name": "python",
   "nbconvert_exporter": "python",
   "pygments_lexer": "ipython3",
   "version": "3.7.4"
  }
 },
 "nbformat": 4,
 "nbformat_minor": 2
}
