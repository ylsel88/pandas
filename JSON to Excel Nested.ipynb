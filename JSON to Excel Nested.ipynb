{
  "nbformat": 4,
  "nbformat_minor": 0,
  "metadata": {
    "colab": {
      "name": "JSON to Excel Nested",
      "provenance": [],
      "collapsed_sections": []
    },
    "kernelspec": {
      "name": "python3",
      "display_name": "Python 3"
    },
    "language_info": {
      "name": "python"
    }
  },
  "cells": [
    {
      "cell_type": "code",
      "metadata": {
        "id": "pjuO5lh7iizs"
      },
      "source": [
        "#Read JSON file\n",
        "import pandas as pd\n",
        "import json\n",
        "from pandas.io.json import json_normalize\n",
        "\n",
        "with open(r\"C:\\Users\\User\\Documents\\Sample.json\") as data_file:\n",
        "    data = json.load(data_file)\n",
        "\n",
        "#Create Dataframe from JSON file; this should display the first level nested keys and values\n",
        "df = pd.io.json.json_normalize(data)\n",
        "df = json_normalize(data)\n",
        "\n",
        "#Flatten nested fields\n",
        "def flatten_json(nested_json, exclude=['']):\n",
        "    out = {}\n",
        "    def flatten(x, name='', exclude=exclude):\n",
        "        if type(x) is dict:\n",
        "            for a in x:\n",
        "                if a not in exclude: flatten(x[a], name + a + '_')\n",
        "        elif type (x) is list:\n",
        "            i = 0\n",
        "            for a in x:\n",
        "                flatten(a, name + str(i) +'_')\n",
        "                i += 1\n",
        "        else:\n",
        "            out[name[:-1]] = x    \n",
        "    flatten(nested_json)\n",
        "    return out\n",
        "\n",
        "#Isolate the 1-level nested keys from dataframe \"df\"\n",
        "df1 = df[[\"Display Name\", \"Project Name\", \"Project Status\"]]\n",
        "\n",
        "#Isolate the 1-level nested key \"Referenced Endpoints\"\n",
        "df_endpoint = pd.DataFrame([flatten_json(x) for x in data[\"Referenced Endpoints\"]])\n",
        "\n",
        "#Isolate the 1-level nested key \"Referenced Reports\"\n",
        "df_ref = pd.DataFrame([flatten_json(x) for x in data[\"Referenced Reports\"]])\n",
        "\n",
        "#Isolate the 2-level nested key \"Reports\"\n",
        "df_reports = pd.DataFrame([flatten_json(x) for x in data[\"Reports\"]])\n",
        "\n",
        "#Flatten instead of normalize the JSON string \"data\"\n",
        "flat = flatten_json(data)\n",
        "df2 = json_normalize(flat)\n",
        "\n",
        "#Isolate the 2-level nested key \"Access Control_Groups_0_Description\" and \"Access Control_Groups_0_Group Name\"\n",
        "df_access = df2[[\"Access Control_Groups_0_Description\", \"Access Control_Groups_0_Group Name\"]]\n",
        "\n",
        "#Isolate and transpose the 2-level nested key \"Access Control_Groups_0_Membership\"\n",
        "df_access2 = df2.filter(regex=\"Access Control_Groups_0_Membership\", axis=1).head()\n",
        "df_access2_transposed = df_access2.T\n",
        "#Assign header as \"Access Control_Groups_0_Membership\"\n",
        "df_access2_transposed.columns = [\"Access Control_Groups_0_Membership\"]\n",
        "df_access2_transposed.reset_index(drop=True, inplace=True)\n",
        "\n",
        "#Dataframe to Excel\n",
        "from pandas import ExcelWriter\n",
        "writer = ExcelWriter(r\"C:\\Users\\User\\Documents\\Sample.xlsx\")\n",
        "df_access.to_excel(writer, \"Access Control\", index=False)\n",
        "df_access2_transposed.to_excel(writer, \"Access Control Membership\", index=False)\n",
        "df1.to_excel(writer, \"Other Columns\", index=False)\n",
        "df_endpoint.to_excel(writer, \"Referenced Endpoints\", index=False)\n",
        "df_ref.to_excel(writer, \"Referenced Reports\", index=False)\n",
        "df_reports.to_excel(writer, \"Reports\", index=False)\n",
        "writer.save()"
      ],
      "execution_count": null,
      "outputs": []
    }
  ]
}