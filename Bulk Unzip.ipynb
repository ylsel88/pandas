{
  "nbformat": 4,
  "nbformat_minor": 0,
  "metadata": {
    "colab": {
      "name": "Bulk Unzip",
      "provenance": [],
      "collapsed_sections": []
    },
    "kernelspec": {
      "name": "python3",
      "display_name": "Python 3"
    },
    "language_info": {
      "name": "python"
    }
  },
  "cells": [
    {
      "cell_type": "code",
      "metadata": {
        "id": "NjuoGig0p0fS"
      },
      "source": [
        "#Use Pandas Library\n",
        "import pandas as pd\n",
        "import zipfile\n",
        "#Assign variables for source and destination drives\n",
        "zip_folder = r\"C:\\Users\\User\\Documents\\Sample.zip\"\n",
        "destination = r\"C:\\Users\\User\\Documents\"\n",
        "#Execute command\n",
        "with zipfile.zipfile(zip_folder) as zf:\n",
        "  zf.extractall(destination)"
      ],
      "execution_count": null,
      "outputs": []
    }
  ]
}