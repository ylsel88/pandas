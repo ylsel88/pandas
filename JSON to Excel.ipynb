{
 "cells": [
  {
   "cell_type": "markdown",
   "metadata": {},
   "source": [
    "\\#Read JSON file import pandas as pd import json from pandas.io.json\n",
    "import json_normalize with\n",
    "open(r\"C:\\\\Users\\\\User\\\\Documents\\\\Sample.json\") as data_file: data =\n",
    "json.load(data_file) \\#Create Dataframe from JSON file df =\n",
    "pd.io.json.json_normalize(data) \\#Dataframe to Excel from pandas import\n",
    "ExcelWriter writer =\n",
    "ExcelWriter(r\"C:\\\\Users\\\\User\\\\Documents\\\\Sample.xlsx\")\n",
    "df.to_excel(writer, \"Sheet1\", index=False) writer.save()"
   ]
  }
 ],
 "nbformat": 4,
 "nbformat_minor": 5,
 "metadata": {}
}
