{
  "nbformat": 4,
  "nbformat_minor": 0,
  "metadata": {
    "colab": {
      "name": "Create Dataframe",
      "provenance": [],
      "collapsed_sections": [],
      "authorship_tag": "ABX9TyPoyhhK08+7my3VrlR8UW5V",
      "include_colab_link": true
    },
    "kernelspec": {
      "name": "python3",
      "display_name": "Python 3"
    },
    "language_info": {
      "name": "python"
    }
  },
  "cells": [
    {
      "cell_type": "markdown",
      "metadata": {
        "id": "view-in-github",
        "colab_type": "text"
      },
      "source": [
        "<a href=\"https://colab.research.google.com/github/ylsel88/pydocs/blob/master/Create%20Dataframe.ipynb\" target=\"_parent\"><img src=\"https://colab.research.google.com/assets/colab-badge.svg\" alt=\"Open In Colab\"/></a>"
      ]
    },
    {
      "cell_type": "code",
      "metadata": {
        "colab": {
          "base_uri": "https://localhost:8080/",
          "height": 173
        },
        "id": "mji7WH6L4Sph",
        "outputId": "4480c18a-8dac-400e-aff4-ae466f56efef"
      },
      "source": [
        "import pandas as pd\n",
        "import numpy as np\n",
        "\n",
        "df = pd.DataFrame(data={'TXC_YTD_AMT':[1,2,3,4],'RAT':['PV MTM','PV Cost','MCS','UMC']})\n",
        "\n",
        "def TLE_value(c):\n",
        "    if c['RAT'] == 'PV Cost':\n",
        "        return df['TXC_YTD_AMT'].map(str)\n",
        "\n",
        "df['TLE_value'] = df.apply(TLE_value, axis=1)\n",
        "df['TLE_value'] = np.where(df['RAT'] == 'PV Cost', df['TXC_YTD_AMT'].map(str),'')\n",
        "df"
      ],
      "execution_count": null,
      "outputs": [
        {
          "output_type": "execute_result",
          "data": {
            "text/html": [
              "<div>\n",
              "<style scoped>\n",
              "    .dataframe tbody tr th:only-of-type {\n",
              "        vertical-align: middle;\n",
              "    }\n",
              "\n",
              "    .dataframe tbody tr th {\n",
              "        vertical-align: top;\n",
              "    }\n",
              "\n",
              "    .dataframe thead th {\n",
              "        text-align: right;\n",
              "    }\n",
              "</style>\n",
              "<table border=\"1\" class=\"dataframe\">\n",
              "  <thead>\n",
              "    <tr style=\"text-align: right;\">\n",
              "      <th></th>\n",
              "      <th>TXC_YTD_AMT</th>\n",
              "      <th>RAT</th>\n",
              "      <th>TLE_value</th>\n",
              "    </tr>\n",
              "  </thead>\n",
              "  <tbody>\n",
              "    <tr>\n",
              "      <th>0</th>\n",
              "      <td>1</td>\n",
              "      <td>PV MTM</td>\n",
              "      <td></td>\n",
              "    </tr>\n",
              "    <tr>\n",
              "      <th>1</th>\n",
              "      <td>2</td>\n",
              "      <td>PV Cost</td>\n",
              "      <td>2</td>\n",
              "    </tr>\n",
              "    <tr>\n",
              "      <th>2</th>\n",
              "      <td>3</td>\n",
              "      <td>MCS</td>\n",
              "      <td></td>\n",
              "    </tr>\n",
              "    <tr>\n",
              "      <th>3</th>\n",
              "      <td>4</td>\n",
              "      <td>UMC</td>\n",
              "      <td></td>\n",
              "    </tr>\n",
              "  </tbody>\n",
              "</table>\n",
              "</div>"
            ],
            "text/plain": [
              "   TXC_YTD_AMT      RAT TLE_value\n",
              "0            1   PV MTM          \n",
              "1            2  PV Cost         2\n",
              "2            3      MCS          \n",
              "3            4      UMC          "
            ]
          },
          "metadata": {},
          "execution_count": 8
        }
      ]
    }
  ]
}